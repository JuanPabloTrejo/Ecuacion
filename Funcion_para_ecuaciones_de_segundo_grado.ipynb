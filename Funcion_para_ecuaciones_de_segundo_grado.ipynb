{
  "nbformat": 4,
  "nbformat_minor": 0,
  "metadata": {
    "colab": {
      "name": "Funcion_para_ecuaciones_de_segundo_grado.ipynb",
      "provenance": [],
      "collapsed_sections": []
    },
    "kernelspec": {
      "name": "python3",
      "display_name": "Python 3"
    },
    "language_info": {
      "name": "python"
    }
  },
  "cells": [
    {
      "cell_type": "code",
      "metadata": {
        "colab": {
          "base_uri": "https://localhost:8080/"
        },
        "id": "nIhLoZu2x1NZ",
        "outputId": "e50fa78f-b1ed-42ba-cf44-6943930ab3f3"
      },
      "source": [
        "print(\"Universidad Nacional Autonoma de México\")\n",
        "print(\"Facultad de Estudios Superiores Aragón\")\n",
        "print(\"Nombre: Trejo Ramirez Juan Pablo\")\n",
        "print(\"Estructura de Datos\")\n",
        "print(\"Grupo: 1310\")\n",
        "print(\"Maestro: Jesus Hernandez Cabrera\")\n",
        "print(\"---------------------------------------------\")\n",
        "print(\"\\nFuncion para resolver ecuaciones de Segundo Grado (ax^2+bx+c=0) mediante la formula general.\")\n",
        "\n",
        "import math\n",
        "a = int (input(\"Introuzca el valor para a = \")) \n",
        "b = int (input(\"Introduzca el valor para b = \"))\n",
        "c = int (input(\"Introduzca el valor para c = \"))\n",
        "\n",
        "d = (b*b)-(4*a*c)\n",
        "if d<0:\n",
        "  print(\"\")\n",
        "  print(\"Las raices son imaginarias.\")\n",
        "\n",
        "else:\n",
        "  x1 = ((-b)+sqrt(d))/(2*a)\n",
        "  x2 = ((-b)-sqrt(d))/(2*a)\n",
        "  print(\"\")\n",
        "  print(f'Las raices son reales y son x1 = {x1} y x2 = {x2}')\n",
        "    \n",
        "\n"
      ],
      "execution_count": null,
      "outputs": [
        {
          "output_type": "stream",
          "name": "stdout",
          "text": [
            "Universidad Nacional Autonoma de México\n",
            "Facultad de Estudios Superiores Aragón\n",
            "Nombre: Trejo Ramirez Juan Pablo\n",
            "Estructura de Datos\n",
            "Grupo: 1310\n",
            "Maestro: Jesus Hernandez Cabrera\n",
            "---------------------------------------------\n",
            "\n",
            "Funcion para resolver ecuaciones de Segundo Grado (ax^2+bx+c=0) mediante la formula general.\n",
            "Introuzca el valor para a = 2\n",
            "Introduzca el valor para b = -8\n",
            "Introduzca el valor para c = 16\n",
            "\n",
            "Las raices son imaginarias.\n"
          ]
        }
      ]
    }
  ]
}